{
 "cells": [
  {
   "cell_type": "code",
   "execution_count": 1,
   "metadata": {
    "collapsed": true
   },
   "outputs": [],
   "source": [
    "import os\n",
    "import glob\n",
    "import cv2\n",
    "import pickle\n",
    "import numpy as np\n",
    "import matplotlib.pyplot as plt\n",
    "%matplotlib inline\n",
    "\n",
    "plt.rcParams['figure.figsize'] = 12,12\n"
   ]
  },
  {
   "cell_type": "code",
   "execution_count": 2,
   "metadata": {
    "collapsed": true
   },
   "outputs": [],
   "source": [
    "with open('camera_cal/cdata.p', 'r') as fid:\n",
    "    cdata = pickle.load(fid)"
   ]
  },
  {
   "cell_type": "code",
   "execution_count": 30,
   "metadata": {},
   "outputs": [],
   "source": [
    "# This implementation tries to warp directly only a ROI, instead of the complete image (NOK)\n",
    "def warp_perspective(img, src, mtx, dist):\n",
    "    \"\"\"\n",
    "    Warp perspectively a region of interest\n",
    "    \"\"\"\n",
    "    undist = cv2.undistort(img, mtx, dist, None, mtx)\n",
    "    x,y,w,h = cv2.boundingRect(src)\n",
    "    dst = np.array([[0,0], [w,0], [w,h], [0,h]], np.float32)\n",
    "    M = cv2.getPerspectiveTransform(src, dst)\n",
    "    warped = cv2.warpPerspective(undist[y:y+h, x:x+w], M, (w,h))\n",
    "    return warped, M\n",
    "    \n",
    "\n",
    "# Perspective transform (OK)\n",
    "def unwarp(frame, mtx, dist):\n",
    "    \"\"\"\n",
    "    Perspective distortion correction for region of interest\n",
    "    \"\"\"\n",
    "    undist = cv2.undistort(frame, mtx, dist, None, mtx)\n",
    "    height, width = frame.shape[:2]\n",
    "\n",
    "    src = np.float32( [\n",
    "        [  575,   465],       # Upper Left\n",
    "        [  715,   465],       # Upper Right\n",
    "        [ 1150,   height],    # Lower Left\n",
    "        [  240,   height]     # Lower Right\n",
    "    ])\n",
    "    \n",
    "    dst = np.float32([\n",
    "        [ 440,    0],\n",
    "        [ 950,    0],\n",
    "        [ 950,  height],\n",
    "        [ 440,  height]    \n",
    "    ])\n",
    "    \n",
    "    M = cv2.getPerspectiveTransform(src, dst)\n",
    "    warped = cv2.warpPerspective(undist, M, (width, height))\n",
    "    x,y,w,h = cv2.boundingRect(src)\n",
    "    return warped[:,x+80:x+w-80]"
   ]
  },
  {
   "cell_type": "code",
   "execution_count": 12,
   "metadata": {},
   "outputs": [],
   "source": [
    "cap = cv2.VideoCapture('challenge_video.mp4')\n",
    "ret, frame = cap.read()"
   ]
  },
  {
   "cell_type": "code",
   "execution_count": null,
   "metadata": {
    "collapsed": true
   },
   "outputs": [],
   "source": [
    "ret, frame = cap.read()\n",
    "warped= unwarp(frame, cdata['results']['mtx'], cdata['results']['dist'])\n",
    "plt.imshow(np.hstack([frame, warped]))"
   ]
  },
  {
   "cell_type": "code",
   "execution_count": null,
   "metadata": {
    "collapsed": true
   },
   "outputs": [],
   "source": [
    "%timeit unwarp(frame, cdata['results']['mtx'], cdata['results']['dist'])"
   ]
  },
  {
   "cell_type": "code",
   "execution_count": 5,
   "metadata": {},
   "outputs": [],
   "source": [
    "# while cap.isOpened():\n",
    "#     ret, frame = cap.read()\n",
    "#     if not ret:\n",
    "#         break\n",
    "#     unwarped, M = unwarp(frame, cdata['results']['mtx'], cdata['results']['dist'])\n",
    "#     cv2.imshow('video', unwarped)\n",
    "# cap.release()\n",
    "# cv2.destroyAllWindows()"
   ]
  }
 ],
 "metadata": {
  "kernelspec": {
   "display_name": "Python 2",
   "language": "python",
   "name": "python2"
  },
  "language_info": {
   "codemirror_mode": {
    "name": "ipython",
    "version": 2
   },
   "file_extension": ".py",
   "mimetype": "text/x-python",
   "name": "python",
   "nbconvert_exporter": "python",
   "pygments_lexer": "ipython2",
   "version": "2.7.12"
  }
 },
 "nbformat": 4,
 "nbformat_minor": 2
}
